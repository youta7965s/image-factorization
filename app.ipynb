{
 "cells": [
  {
   "cell_type": "code",
   "execution_count": 1,
   "id": "2b056eee",
   "metadata": {},
   "outputs": [
    {
     "name": "stderr",
     "output_type": "stream",
     "text": [
      "c:\\Users\\dolla\\AppData\\Local\\Programs\\Python\\Python312\\Lib\\site-packages\\tqdm\\auto.py:21: TqdmWarning: IProgress not found. Please update jupyter and ipywidgets. See https://ipywidgets.readthedocs.io/en/stable/user_install.html\n",
      "  from .autonotebook import tqdm as notebook_tqdm\n"
     ]
    },
    {
     "name": "stdout",
     "output_type": "stream",
     "text": [
      "Using cpu device\n"
     ]
    },
    {
     "name": "stderr",
     "output_type": "stream",
     "text": [
      "Fetching 1 files: 100%|██████████| 1/1 [00:00<?, ?it/s]\n",
      "Using a slow image processor as `use_fast` is unset and a slow processor was saved with this model. `use_fast=True` will be the default behavior in v4.52, even if the model was saved with a slow processor. This will result in minor differences in outputs. You'll still be able to use a slow processor with `use_fast=False`.\n",
      "Fetching 1 files: 100%|██████████| 1/1 [00:00<?, ?it/s]\n"
     ]
    },
    {
     "name": "stdout",
     "output_type": "stream",
     "text": [
      "✅ Model and processor loaded successfully!\n",
      "✅ Dataset loaded successfully!\n"
     ]
    }
   ],
   "source": [
    "# %%\n",
    "# ----- セル1: 初期設定とモデルの読み込み -----\n",
    "import torch\n",
    "from transformers import AutoProcessor, AutoModel\n",
    "from datasets import load_dataset\n",
    "from tqdm import tqdm\n",
    "import torch.nn.functional as F\n",
    "import pickle # Pythonオブジェクトを保存するためのライブラリ\n",
    "\n",
    "# デバイスの確認\n",
    "device = \"cuda\" if torch.cuda.is_available() else \"cpu\"\n",
    "print(f\"Using {device} device\")\n",
    "\n",
    "# モデル名を指定\n",
    "model_name = \"openai/clip-vit-base-patch32\"\n",
    "\n",
    "# モデルとプロセッサーを読み込み\n",
    "processor = AutoProcessor.from_pretrained(model_name)\n",
    "model = AutoModel.from_pretrained(model_name).to(device)\n",
    "print(\"✅ Model and processor loaded successfully!\")\n",
    "\n",
    "# データセットを読み込み\n",
    "dataset_name = \"ashraq/fashion-product-images-small\"\n",
    "dataset = load_dataset(dataset_name, split=\"train\", streaming=True)\n",
    "print(\"✅ Dataset loaded successfully!\")"
   ]
  },
  {
   "cell_type": "code",
   "execution_count": 2,
   "id": "aa9b71dd",
   "metadata": {},
   "outputs": [
    {
     "name": "stdout",
     "output_type": "stream",
     "text": [
      "Starting image vectorization...\n"
     ]
    },
    {
     "name": "stderr",
     "output_type": "stream",
     "text": [
      "100%|██████████| 1000/1000 [02:17<00:00,  7.28it/s]"
     ]
    },
    {
     "name": "stdout",
     "output_type": "stream",
     "text": [
      "\n",
      "✅ Vectorized 1000 images.\n",
      "Feature tensor shape: torch.Size([1000, 512])\n",
      "✅ Features and images saved to files!\n"
     ]
    },
    {
     "name": "stderr",
     "output_type": "stream",
     "text": [
      "\n"
     ]
    }
   ],
   "source": [
    "# %%\n",
    "# ----- セル2: 特徴量ベクトルの計算とファイル保存 -----\n",
    "print(\"Starting image vectorization...\")\n",
    "\n",
    "all_image_features = []\n",
    "all_images = []\n",
    "\n",
    "# データセットの画像を1000件だけ処理\n",
    "for example in tqdm(dataset.take(1000), total=1000):\n",
    "    image = example[\"image\"]\n",
    "    if image is None:\n",
    "        continue\n",
    "    image = image.convert(\"RGB\")\n",
    "    \n",
    "    inputs = processor(images=image, return_tensors=\"pt\").to(device)\n",
    "    with torch.no_grad():\n",
    "        image_features = model.get_image_features(**inputs)\n",
    "        \n",
    "    all_image_features.append(image_features.cpu()) # CPUに移動してから保存\n",
    "    all_images.append(image)\n",
    "\n",
    "# 計算したベクトルを1つのテンソルにまとめる\n",
    "feature_tensor = torch.cat(all_image_features)\n",
    "print(f\"\\n✅ Vectorized {len(all_image_features)} images.\")\n",
    "print(\"Feature tensor shape:\", feature_tensor.shape)\n",
    "\n",
    "# 計算結果をファイルに保存する\n",
    "torch.save(feature_tensor, \"features.pt\")\n",
    "with open(\"images.pkl\", \"wb\") as f:\n",
    "    pickle.dump(all_images, f)\n",
    "\n",
    "print(\"✅ Features and images saved to files!\")"
   ]
  },
  {
   "cell_type": "code",
   "execution_count": null,
   "id": "85d05e2b",
   "metadata": {},
   "outputs": [
    {
     "name": "stdout",
     "output_type": "stream",
     "text": [
      "✅ Features and images loaded from files!\n",
      "✅ Search complete!\n",
      "Query image (index: 300):\n"
     ]
    },
    {
     "data": {
      "image/jpeg": "[encoded data removed]",
      "image/png": "[encoded data removed]",
      "text/plain": [
       "<PIL.Image.Image image mode=RGB size=60x80>"
      ]
     },
     "metadata": {},
     "output_type": "display_data"
    },
    {
     "name": "stdout",
     "output_type": "stream",
     "text": [
      "Most similar image found (index: 300):\n"
     ]
    },
    {
     "data": {
      "image/jpeg": "[encoded data removed]",
      "image/png": "[encoded data removed]",
      "text/plain": [
       "<PIL.Image.Image image mode=RGB size=60x80>"
      ]
     },
     "metadata": {},
     "output_type": "display_data"
    }
   ],
   "source": [
    "# %%\n",
    "# ----- セル3: 保存したファイルを読み込んで類似検索 -----\n",
    "\n",
    "# ファイルからベクトルと画像を読み込む\n",
    "feature_tensor = torch.load(\"features.pt\").to(device)\n",
    "with open(\"images.pkl\", \"rb\") as f:\n",
    "    all_images = pickle.load(f)\n",
    "print(\"✅ Features and images loaded from files!\")\n",
    "\n",
    "# 検索したい画像（クエリ画像）を準備\n",
    "query_index = 300\n",
    "query_image = all_images[query_index]\n",
    "\n",
    "# クエリ画像をベクトル化\n",
    "inputs = processor(images=query_image, return_tensors=\"pt\").to(device)\n",
    "with torch.no_grad():\n",
    "    query_features = model.get_image_features(**inputs)\n",
    "\n",
    "# コサイン類似度を計算\n",
    "similarities = F.cosine_similarity(query_features, feature_tensor)\n",
    "best_match_index = torch.argmax(similarities).item()\n",
    "result_image = all_images[best_match_index]\n",
    "print(\"✅ Search complete!\")\n",
    "\n",
    "# 検索元画像と、見つかった画像を表示\n",
    "print(f\"Query image (index: {query_index}):\")\n",
    "display(query_image)\n",
    "\n",
    "print(f\"Most similar image found (index: {best_match_index}):\")\n",
    "display(result_image)"
   ]
  }
 ],
 "metadata": {
  "kernelspec": {
   "display_name": "Python 3",
   "language": "python",
   "name": "python3"
  },
  "language_info": {
   "codemirror_mode": {
    "name": "ipython",
    "version": 3
   },
   "file_extension": ".py",
   "mimetype": "text/x-python",
   "name": "python",
   "nbconvert_exporter": "python",
   "pygments_lexer": "ipython3",
   "version": "3.12.1"
  }
 },
 "nbformat": 4,
 "nbformat_minor": 5
}
